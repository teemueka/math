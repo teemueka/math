{
  "nbformat": 4,
  "nbformat_minor": 0,
  "metadata": {
    "colab": {
      "provenance": [],
      "authorship_tag": "ABX9TyOcgYxSue7mgnGSqqxXYj6D",
      "include_colab_link": true
    },
    "kernelspec": {
      "name": "python3",
      "display_name": "Python 3"
    },
    "language_info": {
      "name": "python"
    }
  },
  "cells": [
    {
      "cell_type": "markdown",
      "metadata": {
        "id": "view-in-github",
        "colab_type": "text"
      },
      "source": [
        "<a href=\"https://colab.research.google.com/github/teemueka/math/blob/main/teht%C3%A4v%C3%A45.ipynb\" target=\"_parent\"><img src=\"https://colab.research.google.com/assets/colab-badge.svg\" alt=\"Open In Colab\"/></a>"
      ]
    },
    {
      "cell_type": "code",
      "execution_count": 1,
      "metadata": {
        "colab": {
          "base_uri": "https://localhost:8080/"
        },
        "id": "Io5thvLS-YaY",
        "outputId": "c9fba1d2-454f-4c26-919a-cc731463f48c"
      },
      "outputs": [
        {
          "output_type": "stream",
          "name": "stdout",
          "text": [
            "Derivaatta on:  4*x\n"
          ]
        }
      ],
      "source": [
        "import numpy as np\n",
        "from sympy import symbols, diff\n",
        "\n",
        "x = symbols('x')\n",
        "f = 2*x**2 - 3\n",
        "derivative_f = diff(f, x)\n",
        "\n",
        "print(\"Derivaatta on: \", derivative_f)"
      ]
    },
    {
      "cell_type": "code",
      "source": [
        "delta_x = 0.001\n",
        "x = 0\n",
        "derivative_two_point = (np.sin(x + delta_x) - np.sin(x)) / delta_x\n",
        "derivative_three_point = (-3*np.sin(x) + 4*np.sin(x + delta_x) - np.sin(x + 2*delta_x)) / (2*delta_x)\n",
        "\n",
        "print(\"Kaksipistekaavan mukainen derivaatan likiarvo on: \", derivative_two_point)\n",
        "print(\"Kolmepistekaavan mukainen derivaatan likiarvo on: \", derivative_three_point)"
      ],
      "metadata": {
        "colab": {
          "base_uri": "https://localhost:8080/"
        },
        "id": "6BwDUcf8-aZC",
        "outputId": "36089853-da70-422e-f3ec-672069775959"
      },
      "execution_count": 2,
      "outputs": [
        {
          "output_type": "stream",
          "name": "stdout",
          "text": [
            "Kaksipistekaavan mukainen derivaatan likiarvo on:  0.9999998333333416\n",
            "Kolmepistekaavan mukainen derivaatan likiarvo on:  1.0000003333332168\n"
          ]
        }
      ]
    },
    {
      "cell_type": "code",
      "source": [
        "dx = 0.001\n",
        "x = 1.5\n",
        "derivative_three_point = (-3*np.exp(-x**2) + 4*np.exp(-(x + dx)**2) - np.exp(-(x + 2*dx)**2)) / (2*dx)\n",
        "\n",
        "print(\"Kolmepistekaavan mukainen derivaatan likiarvo on: \", derivative_three_point)"
      ],
      "metadata": {
        "colab": {
          "base_uri": "https://localhost:8080/"
        },
        "id": "WMjiB7cD-alV",
        "outputId": "ddd9201d-0890-4774-e29a-4c50067fa08c"
      },
      "execution_count": 3,
      "outputs": [
        {
          "output_type": "stream",
          "name": "stdout",
          "text": [
            "Kolmepistekaavan mukainen derivaatan likiarvo on:  -0.31619735709405294\n"
          ]
        }
      ]
    },
    {
      "cell_type": "code",
      "source": [
        "dx = 0.001\n",
        "x = 0.3\n",
        "derivative_three_point = (-3*(x-1)/(x+1) + 4*((x+dx-1)/(x+dx+1)) - ((x+2*dx-1)/(x+2*dx+1))) / (2*dx)\n",
        "\n",
        "print(\"Kolmepistekaavan mukainen derivaatan likiarvo on: \", derivative_three_point)"
      ],
      "metadata": {
        "colab": {
          "base_uri": "https://localhost:8080/"
        },
        "id": "kalkBE6z-att",
        "outputId": "c78ac034-74cb-4666-a6e3-2c632f2d60f6"
      },
      "execution_count": 4,
      "outputs": [
        {
          "output_type": "stream",
          "name": "stdout",
          "text": [
            "Kolmepistekaavan mukainen derivaatan likiarvo on:  1.183430555377396\n"
          ]
        }
      ]
    }
  ]
}